{
 "cells": [
  {
   "cell_type": "code",
   "execution_count": 2,
   "id": "e1202a8b-dc6f-4ced-9d03-e27542032fa6",
   "metadata": {},
   "outputs": [
    {
     "name": "stdout",
     "output_type": "stream",
     "text": [
      "DataFrame from dictionary of lists:\n",
      "      Name  Age         City\n",
      "0    Alice   25     New York\n",
      "1      Bob   30  Los Angeles\n",
      "2  Charlie   35      Chicago\n"
     ]
    }
   ],
   "source": [
    "import numpy as np\n",
    "import pandas as pd\n",
    "\n",
    "#Task1 \n",
    "#dict of lists\n",
    "\n",
    "create_dictionary = {'Name': ['Alice', 'Bob', 'Charlie'] ,\n",
    "'Age': [25, 30, 35],\n",
    "'City': ['New York', 'Los Angeles', 'Chicago']}\n",
    "\n",
    "df_dict_of_lists = pd.DataFrame(create_dictionary)\n",
    "print(\"DataFrame from dictionary of lists:\")\n",
    "print(df_dict_of_lists)\n",
    "task1_data_frame = df_dict_of_lists.copy()"
   ]
  },
  {
   "cell_type": "code",
   "execution_count": null,
   "id": "dd2e8dab-cfb5-4299-96a5-28eff6666a13",
   "metadata": {},
   "outputs": [],
   "source": []
  }
 ],
 "metadata": {
  "kernelspec": {
   "display_name": "Python 3 (ipykernel)",
   "language": "python",
   "name": "python3"
  },
  "language_info": {
   "codemirror_mode": {
    "name": "ipython",
    "version": 3
   },
   "file_extension": ".py",
   "mimetype": "text/x-python",
   "name": "python",
   "nbconvert_exporter": "python",
   "pygments_lexer": "ipython3",
   "version": "3.13.1"
  }
 },
 "nbformat": 4,
 "nbformat_minor": 5
}
